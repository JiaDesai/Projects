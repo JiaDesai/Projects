{
 "cells": [
  {
   "cell_type": "markdown",
   "id": "35b6956c-313d-4db3-991f-129035e95c19",
   "metadata": {},
   "source": [
    "# Song Recommender"
   ]
  },
  {
   "cell_type": "markdown",
   "id": "6f7018ea-df0e-4d97-aeac-56f5e29fc14e",
   "metadata": {},
   "source": [
    "**Author**: Jia Desai"
   ]
  },
  {
   "cell_type": "code",
   "execution_count": 3,
   "id": "69bce443-146c-453f-8b55-cc5fdce5ddee",
   "metadata": {
    "tags": []
   },
   "outputs": [],
   "source": [
    "import pandas as pd\n",
    "import matplotlib.pyplot as plt\n",
    "\n",
    "songs_df = pd.read_csv('Spotify 2010 - 2019 Top 100.csv')"
   ]
  },
  {
   "cell_type": "code",
   "execution_count": 4,
   "id": "f093cd30-7b94-4c2f-aec6-4c4923b1e245",
   "metadata": {
    "tags": []
   },
   "outputs": [
    {
     "data": {
      "text/plain": [
       "Index(['title', 'artist', 'top genre', 'year released', 'added', 'bpm', 'nrgy',\n",
       "       'dnce', 'dB', 'live', 'val', 'dur', 'acous', 'spch', 'pop', 'top year',\n",
       "       'artist type'],\n",
       "      dtype='object')"
      ]
     },
     "execution_count": 4,
     "metadata": {},
     "output_type": "execute_result"
    }
   ],
   "source": [
    "#Features of the dataset\n",
    "songs_df.columns"
   ]
  },
  {
   "cell_type": "code",
   "execution_count": 5,
   "id": "efedf2b3-fb56-4a75-ad9c-795116185265",
   "metadata": {
    "tags": []
   },
   "outputs": [
    {
     "data": {
      "text/html": [
       "<div>\n",
       "<style scoped>\n",
       "    .dataframe tbody tr th:only-of-type {\n",
       "        vertical-align: middle;\n",
       "    }\n",
       "\n",
       "    .dataframe tbody tr th {\n",
       "        vertical-align: top;\n",
       "    }\n",
       "\n",
       "    .dataframe thead th {\n",
       "        text-align: right;\n",
       "    }\n",
       "</style>\n",
       "<table border=\"1\" class=\"dataframe\">\n",
       "  <thead>\n",
       "    <tr style=\"text-align: right;\">\n",
       "      <th></th>\n",
       "      <th>title</th>\n",
       "      <th>artist</th>\n",
       "      <th>top genre</th>\n",
       "      <th>year released</th>\n",
       "      <th>added</th>\n",
       "      <th>bpm</th>\n",
       "      <th>nrgy</th>\n",
       "      <th>dnce</th>\n",
       "      <th>dB</th>\n",
       "      <th>live</th>\n",
       "      <th>val</th>\n",
       "      <th>dur</th>\n",
       "      <th>acous</th>\n",
       "      <th>spch</th>\n",
       "      <th>pop</th>\n",
       "      <th>top year</th>\n",
       "      <th>artist type</th>\n",
       "    </tr>\n",
       "  </thead>\n",
       "  <tbody>\n",
       "    <tr>\n",
       "      <th>0</th>\n",
       "      <td>STARSTRUKK (feat. Katy Perry)</td>\n",
       "      <td>3OH!3</td>\n",
       "      <td>dance pop</td>\n",
       "      <td>2009.0</td>\n",
       "      <td>2022‑02‑17</td>\n",
       "      <td>140.0</td>\n",
       "      <td>81.0</td>\n",
       "      <td>61.0</td>\n",
       "      <td>-6.0</td>\n",
       "      <td>23.0</td>\n",
       "      <td>23.0</td>\n",
       "      <td>203.0</td>\n",
       "      <td>0.0</td>\n",
       "      <td>6.0</td>\n",
       "      <td>70.0</td>\n",
       "      <td>2010.0</td>\n",
       "      <td>Duo</td>\n",
       "    </tr>\n",
       "    <tr>\n",
       "      <th>1</th>\n",
       "      <td>My First Kiss (feat. Ke$ha)</td>\n",
       "      <td>3OH!3</td>\n",
       "      <td>dance pop</td>\n",
       "      <td>2010.0</td>\n",
       "      <td>2022‑02‑17</td>\n",
       "      <td>138.0</td>\n",
       "      <td>89.0</td>\n",
       "      <td>68.0</td>\n",
       "      <td>-4.0</td>\n",
       "      <td>36.0</td>\n",
       "      <td>83.0</td>\n",
       "      <td>192.0</td>\n",
       "      <td>1.0</td>\n",
       "      <td>8.0</td>\n",
       "      <td>68.0</td>\n",
       "      <td>2010.0</td>\n",
       "      <td>Duo</td>\n",
       "    </tr>\n",
       "    <tr>\n",
       "      <th>2</th>\n",
       "      <td>I Need A Dollar</td>\n",
       "      <td>Aloe Blacc</td>\n",
       "      <td>pop soul</td>\n",
       "      <td>2010.0</td>\n",
       "      <td>2022‑02‑17</td>\n",
       "      <td>95.0</td>\n",
       "      <td>48.0</td>\n",
       "      <td>84.0</td>\n",
       "      <td>-7.0</td>\n",
       "      <td>9.0</td>\n",
       "      <td>96.0</td>\n",
       "      <td>243.0</td>\n",
       "      <td>20.0</td>\n",
       "      <td>3.0</td>\n",
       "      <td>72.0</td>\n",
       "      <td>2010.0</td>\n",
       "      <td>Solo</td>\n",
       "    </tr>\n",
       "    <tr>\n",
       "      <th>3</th>\n",
       "      <td>Airplanes (feat. Hayley Williams of Paramore)</td>\n",
       "      <td>B.o.B</td>\n",
       "      <td>atl hip hop</td>\n",
       "      <td>2010.0</td>\n",
       "      <td>2022‑02‑17</td>\n",
       "      <td>93.0</td>\n",
       "      <td>87.0</td>\n",
       "      <td>66.0</td>\n",
       "      <td>-4.0</td>\n",
       "      <td>4.0</td>\n",
       "      <td>38.0</td>\n",
       "      <td>180.0</td>\n",
       "      <td>11.0</td>\n",
       "      <td>12.0</td>\n",
       "      <td>80.0</td>\n",
       "      <td>2010.0</td>\n",
       "      <td>Solo</td>\n",
       "    </tr>\n",
       "    <tr>\n",
       "      <th>4</th>\n",
       "      <td>Nothin' on You (feat. Bruno Mars)</td>\n",
       "      <td>B.o.B</td>\n",
       "      <td>atl hip hop</td>\n",
       "      <td>2010.0</td>\n",
       "      <td>2022‑02‑17</td>\n",
       "      <td>104.0</td>\n",
       "      <td>85.0</td>\n",
       "      <td>69.0</td>\n",
       "      <td>-6.0</td>\n",
       "      <td>9.0</td>\n",
       "      <td>74.0</td>\n",
       "      <td>268.0</td>\n",
       "      <td>39.0</td>\n",
       "      <td>5.0</td>\n",
       "      <td>79.0</td>\n",
       "      <td>2010.0</td>\n",
       "      <td>Solo</td>\n",
       "    </tr>\n",
       "  </tbody>\n",
       "</table>\n",
       "</div>"
      ],
      "text/plain": [
       "                                           title      artist    top genre  \\\n",
       "0                  STARSTRUKK (feat. Katy Perry)       3OH!3    dance pop   \n",
       "1                    My First Kiss (feat. Ke$ha)       3OH!3    dance pop   \n",
       "2                                I Need A Dollar  Aloe Blacc     pop soul   \n",
       "3  Airplanes (feat. Hayley Williams of Paramore)       B.o.B  atl hip hop   \n",
       "4              Nothin' on You (feat. Bruno Mars)       B.o.B  atl hip hop   \n",
       "\n",
       "   year released       added    bpm  nrgy  dnce   dB  live   val    dur  \\\n",
       "0         2009.0  2022‑02‑17  140.0  81.0  61.0 -6.0  23.0  23.0  203.0   \n",
       "1         2010.0  2022‑02‑17  138.0  89.0  68.0 -4.0  36.0  83.0  192.0   \n",
       "2         2010.0  2022‑02‑17   95.0  48.0  84.0 -7.0   9.0  96.0  243.0   \n",
       "3         2010.0  2022‑02‑17   93.0  87.0  66.0 -4.0   4.0  38.0  180.0   \n",
       "4         2010.0  2022‑02‑17  104.0  85.0  69.0 -6.0   9.0  74.0  268.0   \n",
       "\n",
       "   acous  spch   pop  top year artist type  \n",
       "0    0.0   6.0  70.0    2010.0         Duo  \n",
       "1    1.0   8.0  68.0    2010.0         Duo  \n",
       "2   20.0   3.0  72.0    2010.0        Solo  \n",
       "3   11.0  12.0  80.0    2010.0        Solo  \n",
       "4   39.0   5.0  79.0    2010.0        Solo  "
      ]
     },
     "execution_count": 5,
     "metadata": {},
     "output_type": "execute_result"
    }
   ],
   "source": [
    "# cleaning the data\n",
    "# renaming columns for better understanding\n",
    "new_col_names = {\n",
    "    'nrgy': \"energy\", \n",
    "    'dnce': 'danceability', \n",
    "    'dB': 'decibel/loudness', \n",
    "    'val': 'positivity', \n",
    "    'dur': 'duration', \n",
    "    'spch': 'spoken word', \n",
    "    'pop': 'popularity'\n",
    "}\n",
    "songs_df_copy = songs_df.rename(columns = new_col_names)\n",
    "\n",
    "# dropping columns which will not be used by system\n",
    "col_to_drop = ['added', 'live', 'artist type', 'top year']\n",
    "songs_df_copy = songs_df_copy.drop(columns = col_to_drop)\n",
    "\n",
    "#removing na values\n",
    "songs_df_copy = songs_df_copy.dropna()\n",
    "\n",
    "#adding a featuring column to use for recommendation\n",
    "songs_df_copy['featuring'] = songs_df_copy['title'].str.split('.').str[1]\n",
    "songs_df_copy['featuring'] = songs_df_copy['featuring'].str.replace(')', '')\n",
    "\n",
    "#removing the featuring artist/s from the song title\n",
    "songs_df_copy['title'] = songs_df_copy['title'].str.replace(r'\\s*\\(feat\\..*?\\)', '', regex=True)\n",
    "\n",
    "songs_df.head()"
   ]
  },
  {
   "cell_type": "code",
   "execution_count": 6,
   "id": "2c344fc1-4c6e-49e6-89ea-e0e762e3ad6c",
   "metadata": {
    "tags": []
   },
   "outputs": [],
   "source": [
    "from sklearn.feature_extraction.text import TfidfVectorizer\n",
    "from sklearn.metrics.pairwise import cosine_similarity\n",
    "import numpy as np"
   ]
  },
  {
   "cell_type": "code",
   "execution_count": 7,
   "id": "9d920101-4756-4820-a9f7-0c4cef64ac3b",
   "metadata": {
    "tags": []
   },
   "outputs": [
    {
     "name": "stdout",
     "output_type": "stream",
     "text": [
      "Recommended Songs:\n",
      "3      Airplanes\n",
      "146      It Girl\n",
      "29        Replay\n",
      "491       Wasted\n",
      "997       Boasty\n",
      "Name: title, dtype: object\n"
     ]
    }
   ],
   "source": [
    "# Text vectorization (TF-IDF) for 'title', 'artist', 'top genre'\n",
    "tfidf_vectorizer = TfidfVectorizer(stop_words='english')\n",
    "tfidf_matrix_title = tfidf_vectorizer.fit_transform(songs_df_copy['title'])\n",
    "tfidf_matrix_artist = tfidf_vectorizer.fit_transform(songs_df_copy['artist'])\n",
    "tfidf_matrix_genre = tfidf_vectorizer.fit_transform(songs_df_copy['top genre'])\n",
    "\n",
    "# Combine TF-IDF matrices with numerical features\n",
    "numerical_features = ['year released', 'bpm', 'energy', 'danceability', 'decibel/loudness',\n",
    "                      'positivity', 'duration', 'acous', 'spoken word', 'popularity']\n",
    "features_matrix = pd.concat([songs_df_copy[numerical_features],\n",
    "                             pd.DataFrame(tfidf_matrix_title.toarray()),\n",
    "                             pd.DataFrame(tfidf_matrix_artist.toarray()),\n",
    "                             pd.DataFrame(tfidf_matrix_genre.toarray())], axis=1)\n",
    "\n",
    "# Compute cosine similarity\n",
    "cosine_sim = cosine_similarity(features_matrix, features_matrix)\n",
    "\n",
    "# Function to recommend songs based on similarity\n",
    "def recommend_songs(song_title, cosine_sim, songs_df_copy, top_n=5):\n",
    "    song_index = songs_df_copy[songs_df_copy['title'] == song_title].index[0]\n",
    "    sim_scores = list(enumerate(cosine_sim[song_index]))\n",
    "    sim_scores = sorted(sim_scores, key=lambda x: x[1], reverse=True)\n",
    "    top_sim_scores = sim_scores[1:top_n+1]  # Exclude the song itself\n",
    "    recommended_song_indices = [i[0] for i in top_sim_scores]\n",
    "    return songs_df_copy.iloc[recommended_song_indices]['title']\n",
    "\n",
    "# Example: Recommend songs similar to 'Song A'\n",
    "recommended_songs = recommend_songs('Lean On', cosine_sim, songs_df_copy)\n",
    "print(\"Recommended Songs:\")\n",
    "print(recommended_songs)"
   ]
  }
 ],
 "metadata": {
  "kernelspec": {
   "display_name": "Python 3 (ipykernel)",
   "language": "python",
   "name": "python3"
  },
  "language_info": {
   "codemirror_mode": {
    "name": "ipython",
    "version": 3
   },
   "file_extension": ".py",
   "mimetype": "text/x-python",
   "name": "python",
   "nbconvert_exporter": "python",
   "pygments_lexer": "ipython3",
   "version": "3.11.7"
  }
 },
 "nbformat": 4,
 "nbformat_minor": 5
}
